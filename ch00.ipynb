{
  "cells": [
    {
      "cell_type": "markdown",
      "metadata": {
        "id": "-no4NjoNZcGs"
      },
      "source": [
        "# <p style=\"font-family: Arial; font-size:1.4em;color:gold;\"> Jupyter Notebook </p>\n",
        "<img src=\"https://miro.medium.com/v2/resize:fit:1400/1*RzxZF0mmXAsMLrIzAWYDSg.png\" alt=\"Drawing\" style=\"width: 400px;\"/>"
      ]
    },
    {
      "cell_type": "markdown",
      "metadata": {
        "id": "h-mE7U_2ZcGt"
      },
      "source": [
        "# Task 1. Complete the following code and run it.\n"
      ]
    },
    {
      "cell_type": "markdown",
      "metadata": {
        "id": "LDoqZcK6ZcGu"
      },
      "source": [
        "### Please run the below code by clicking the small \"play\" button on the left of the cell"
      ]
    },
    {
      "cell_type": "code",
      "execution_count": 4,
      "metadata": {
        "colab": {
          "base_uri": "https://localhost:8080/"
        },
        "id": "Rxp8PE1uZcGu",
        "outputId": "580e4ccf-2368-4571-bd2a-527beef7868b"
      },
      "outputs": [
        {
          "output_type": "stream",
          "name": "stdout",
          "text": [
            "Hello Wolrd\n"
          ]
        }
      ],
      "source": [
        "print ('Hello Wolrd')"
      ]
    },
    {
      "cell_type": "markdown",
      "metadata": {
        "id": "nRj_vYfTZcGv"
      },
      "source": [
        "### SAVE this file(ctrl-s) At this moment"
      ]
    },
    {
      "cell_type": "markdown",
      "metadata": {
        "id": "8nVE1v6BZcGv"
      },
      "source": [
        "# Task 2. Complete the following instructions"
      ]
    },
    {
      "cell_type": "markdown",
      "metadata": {
        "id": "OVJD40bpZcGw"
      },
      "source": [
        "### Press \"ESC\"\n",
        "### Create a \"Code Cell\" by typing \"b\"\n",
        "### Make the same code to print \"Hello World\"\n",
        "### Run it\n",
        "### Try to move the cell by \"alt - up / down\" in VS Code or \"Ctrl-M J/K\" in Google Colab"
      ]
    },
    {
      "cell_type": "markdown",
      "metadata": {
        "id": "unPvX_OgZcGw"
      },
      "source": [
        "### SAVE this file(ctrl-s) At this moment"
      ]
    },
    {
      "cell_type": "code",
      "source": [
        "print (\"Hello Wolrd\")"
      ],
      "metadata": {
        "id": "u5_G76qjZmXL",
        "outputId": "96a68c2c-8c4c-4080-aee9-96680968d1f4",
        "colab": {
          "base_uri": "https://localhost:8080/"
        }
      },
      "execution_count": 5,
      "outputs": [
        {
          "output_type": "stream",
          "name": "stdout",
          "text": [
            "Hello Wolrd\n"
          ]
        }
      ]
    },
    {
      "cell_type": "markdown",
      "metadata": {
        "id": "myHZR4hhZcGw"
      },
      "source": [
        "\n",
        "# Task 3\n",
        "### Create a \"Markdown Cell\"\n",
        "### Add a image in your \"Markdown Cell\" (Refer to the 1st Cell in this notebook file)"
      ]
    },
    {
      "cell_type": "markdown",
      "metadata": {
        "id": "d6wiPT_MZcGw"
      },
      "source": [
        "### SAVE this file(ctrl-s) At this moment"
      ]
    },
    {
      "cell_type": "markdown",
      "metadata": {
        "id": "cBR_g2YkZcGx"
      },
      "source": [
        "### Make sure that you should have \"SAVE\" this file at least 3 times.\n",
        "### \"SAVE(ctrl-s)\" will make a snapshot in the Revision History"
      ]
    }
  ],
  "metadata": {
    "kernelspec": {
      "display_name": "base",
      "language": "python",
      "name": "python3"
    },
    "language_info": {
      "codemirror_mode": {
        "name": "ipython",
        "version": 3
      },
      "file_extension": ".py",
      "mimetype": "text/x-python",
      "name": "python",
      "nbconvert_exporter": "python",
      "pygments_lexer": "ipython3",
      "version": "3.9.17"
    },
    "colab": {
      "provenance": []
    }
  },
  "nbformat": 4,
  "nbformat_minor": 0
}