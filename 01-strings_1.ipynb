{
  "cells": [
    {
      "cell_type": "markdown",
      "id": "06c205c1",
      "metadata": {
        "id": "06c205c1"
      },
      "source": [
        "# Strings"
      ]
    },
    {
      "cell_type": "markdown",
      "id": "e0d3aa0b",
      "metadata": {
        "id": "e0d3aa0b"
      },
      "source": [
        "### Basics"
      ]
    },
    {
      "cell_type": "code",
      "execution_count": 33,
      "id": "23e42c11",
      "metadata": {
        "colab": {
          "base_uri": "https://localhost:8080/",
          "height": 35
        },
        "id": "23e42c11",
        "outputId": "db5752ce-ce04-4751-e16e-1c6c5cf12d2c"
      },
      "outputs": [
        {
          "output_type": "execute_result",
          "data": {
            "text/plain": [
              "'this is a string that is also a sentence'"
            ],
            "application/vnd.google.colaboratory.intrinsic+json": {
              "type": "string"
            }
          },
          "metadata": {},
          "execution_count": 33
        }
      ],
      "source": [
        "\"this is a string that is also a sentence\""
      ]
    },
    {
      "cell_type": "code",
      "execution_count": 34,
      "id": "261d484e",
      "metadata": {
        "colab": {
          "base_uri": "https://localhost:8080/",
          "height": 35
        },
        "id": "261d484e",
        "outputId": "c05cc832-bd91-42c0-f7e4-492ed70bb6bc"
      },
      "outputs": [
        {
          "output_type": "execute_result",
          "data": {
            "text/plain": [
              "'this'"
            ],
            "application/vnd.google.colaboratory.intrinsic+json": {
              "type": "string"
            }
          },
          "metadata": {},
          "execution_count": 34
        }
      ],
      "source": [
        "'this'"
      ]
    },
    {
      "cell_type": "code",
      "execution_count": 35,
      "id": "672389e3",
      "metadata": {
        "colab": {
          "base_uri": "https://localhost:8080/",
          "height": 35
        },
        "id": "672389e3",
        "outputId": "e4b7f611-0696-47f8-d9b6-8c3507670b51"
      },
      "outputs": [
        {
          "output_type": "execute_result",
          "data": {
            "text/plain": [
              "'t'"
            ],
            "application/vnd.google.colaboratory.intrinsic+json": {
              "type": "string"
            }
          },
          "metadata": {},
          "execution_count": 35
        }
      ],
      "source": [
        "'t'"
      ]
    },
    {
      "cell_type": "code",
      "execution_count": 36,
      "id": "0c983215",
      "metadata": {
        "colab": {
          "base_uri": "https://localhost:8080/",
          "height": 35
        },
        "id": "0c983215",
        "outputId": "0c58fca1-bbc0-437f-9b08-d6f404bca2dd"
      },
      "outputs": [
        {
          "output_type": "execute_result",
          "data": {
            "text/plain": [
              "'598798234792'"
            ],
            "application/vnd.google.colaboratory.intrinsic+json": {
              "type": "string"
            }
          },
          "metadata": {},
          "execution_count": 36
        }
      ],
      "source": [
        "'598798234792'"
      ]
    },
    {
      "cell_type": "code",
      "execution_count": 37,
      "id": "2f51e8fe",
      "metadata": {
        "colab": {
          "base_uri": "https://localhost:8080/",
          "height": 35
        },
        "id": "2f51e8fe",
        "outputId": "d4b058c2-0fa2-45c5-e65d-8637e659b242"
      },
      "outputs": [
        {
          "output_type": "execute_result",
          "data": {
            "text/plain": [
              "'this is a string too '"
            ],
            "application/vnd.google.colaboratory.intrinsic+json": {
              "type": "string"
            }
          },
          "metadata": {},
          "execution_count": 37
        }
      ],
      "source": [
        "'this is a string too '"
      ]
    },
    {
      "cell_type": "code",
      "execution_count": 38,
      "id": "6ede7d68",
      "metadata": {
        "colab": {
          "base_uri": "https://localhost:8080/",
          "height": 35
        },
        "id": "6ede7d68",
        "outputId": "909820b7-7d9c-4c61-efbf-43c17c0e354c"
      },
      "outputs": [
        {
          "output_type": "execute_result",
          "data": {
            "text/plain": [
              "'\\nput \\nthings\\non \\nmultiple \\nlines\\n'"
            ],
            "application/vnd.google.colaboratory.intrinsic+json": {
              "type": "string"
            }
          },
          "metadata": {},
          "execution_count": 38
        }
      ],
      "source": [
        "\"\"\"\n",
        "put\n",
        "things\n",
        "on\n",
        "multiple\n",
        "lines\n",
        "\"\"\""
      ]
    },
    {
      "cell_type": "markdown",
      "id": "4919b581",
      "metadata": {
        "id": "4919b581"
      },
      "source": [
        "### `print`"
      ]
    },
    {
      "cell_type": "code",
      "execution_count": 39,
      "id": "c5dac2b9",
      "metadata": {
        "colab": {
          "base_uri": "https://localhost:8080/",
          "height": 35
        },
        "id": "c5dac2b9",
        "outputId": "b20879ae-1f36-4f30-dda5-9036febdc889"
      },
      "outputs": [
        {
          "output_type": "execute_result",
          "data": {
            "text/plain": [
              "'string 3'"
            ],
            "application/vnd.google.colaboratory.intrinsic+json": {
              "type": "string"
            }
          },
          "metadata": {},
          "execution_count": 39
        }
      ],
      "source": [
        "'string 1'\n",
        "'string 2'\n",
        "'string 3'"
      ]
    },
    {
      "cell_type": "code",
      "execution_count": 40,
      "id": "2946f0e0",
      "metadata": {
        "colab": {
          "base_uri": "https://localhost:8080/"
        },
        "id": "2946f0e0",
        "outputId": "b862a7d7-bf45-41c4-bff0-f9bfa31eacb7"
      },
      "outputs": [
        {
          "output_type": "stream",
          "name": "stdout",
          "text": [
            "string 1\n",
            "string 2\n",
            "string 3\n"
          ]
        }
      ],
      "source": [
        "print('string 1')\n",
        "print('string 2')\n",
        "print('string 3')"
      ]
    },
    {
      "cell_type": "markdown",
      "id": "c0198a7e",
      "metadata": {
        "id": "c0198a7e"
      },
      "source": [
        "### Variables"
      ]
    },
    {
      "cell_type": "code",
      "execution_count": 47,
      "id": "ac4b23cf",
      "metadata": {
        "id": "ac4b23cf"
      },
      "outputs": [],
      "source": [
        "word = \"Microphone\""
      ]
    },
    {
      "cell_type": "code",
      "execution_count": 46,
      "id": "d6620c3a",
      "metadata": {
        "id": "d6620c3a"
      },
      "outputs": [],
      "source": [
        "word = \"Camera\""
      ]
    },
    {
      "cell_type": "code",
      "execution_count": 45,
      "id": "6a4bcd48",
      "metadata": {
        "colab": {
          "base_uri": "https://localhost:8080/",
          "height": 35
        },
        "id": "6a4bcd48",
        "outputId": "c10ec7ad-dc41-49de-ffc5-5189ea0e7be0"
      },
      "outputs": [
        {
          "output_type": "execute_result",
          "data": {
            "text/plain": [
              "'Camera'"
            ],
            "application/vnd.google.colaboratory.intrinsic+json": {
              "type": "string"
            }
          },
          "metadata": {},
          "execution_count": 45
        }
      ],
      "source": [
        "word"
      ]
    },
    {
      "cell_type": "code",
      "execution_count": 48,
      "id": "ddeb51eb",
      "metadata": {
        "id": "ddeb51eb"
      },
      "outputs": [],
      "source": [
        "in_snake_case = \"this is another variable\""
      ]
    },
    {
      "cell_type": "code",
      "execution_count": 49,
      "id": "9bfc010e",
      "metadata": {
        "id": "9bfc010e"
      },
      "outputs": [],
      "source": [
        "camelCase = 'Do as the romans do... so don\\'t write camel case'"
      ]
    },
    {
      "cell_type": "markdown",
      "id": "438e30bf",
      "metadata": {
        "id": "438e30bf"
      },
      "source": [
        "### Interpolation"
      ]
    },
    {
      "cell_type": "code",
      "execution_count": 50,
      "id": "1bccb4a6",
      "metadata": {
        "id": "1bccb4a6"
      },
      "outputs": [],
      "source": [
        "word = \"Microphone\""
      ]
    },
    {
      "cell_type": "code",
      "execution_count": 51,
      "id": "cca00969",
      "metadata": {
        "colab": {
          "base_uri": "https://localhost:8080/",
          "height": 35
        },
        "id": "cca00969",
        "outputId": "bb7de976-1251-48ee-d176-578dbba203aa"
      },
      "outputs": [
        {
          "output_type": "execute_result",
          "data": {
            "text/plain": [
              "'My word is: Microphone'"
            ],
            "application/vnd.google.colaboratory.intrinsic+json": {
              "type": "string"
            }
          },
          "metadata": {},
          "execution_count": 51
        }
      ],
      "source": [
        "f\"My word is: {word}\""
      ]
    },
    {
      "cell_type": "code",
      "execution_count": 52,
      "id": "adef6d40",
      "metadata": {
        "id": "adef6d40"
      },
      "outputs": [],
      "source": [
        "my_name = \"Max\""
      ]
    },
    {
      "cell_type": "code",
      "execution_count": 53,
      "id": "e8551755",
      "metadata": {
        "colab": {
          "base_uri": "https://localhost:8080/",
          "height": 35
        },
        "id": "e8551755",
        "outputId": "b4c0d35c-d5ce-4b0b-9f01-e9fcee728fe1"
      },
      "outputs": [
        {
          "output_type": "execute_result",
          "data": {
            "text/plain": [
              "'Hi my name is Max'"
            ],
            "application/vnd.google.colaboratory.intrinsic+json": {
              "type": "string"
            }
          },
          "metadata": {},
          "execution_count": 53
        }
      ],
      "source": [
        "f\"Hi my name is {my_name}\""
      ]
    },
    {
      "cell_type": "code",
      "execution_count": 69,
      "id": "0a1f7ebb",
      "metadata": {
        "colab": {
          "base_uri": "https://localhost:8080/",
          "height": 35
        },
        "id": "0a1f7ebb",
        "outputId": "d72a801a-9d0e-4944-ba79-9d6f63d39bfe"
      },
      "outputs": [
        {
          "output_type": "execute_result",
          "data": {
            "text/plain": [
              "'Hi, my name is Max, my favourite colour is ⬛️, and I live in 🇨🇦'"
            ],
            "application/vnd.google.colaboratory.intrinsic+json": {
              "type": "string"
            }
          },
          "metadata": {},
          "execution_count": 69
        }
      ],
      "source": [
        "name = \"Max\"\n",
        "colour = \"⬛️\"\n",
        "country = \"🇨🇦\"\n",
        "\n",
        "f\"Hi, my name is {name}, my favourite colour is {colour}, and I live in {country}\""
      ]
    },
    {
      "cell_type": "markdown",
      "id": "5555b83a",
      "metadata": {
        "id": "5555b83a"
      },
      "source": [
        "### Challenge\n",
        "\n",
        "<div class='alert alert-info'>\n",
        "  🎒\n",
        "  Code a \"story\" about your name, age, and favourite TV show\n",
        "</div>\n",
        "<br/>\n",
        "<details>\n",
        "<summary><u>Solution</u></summary>\n",
        "    \n",
        "```python\n",
        "my_name = \"Maggie\"\n",
        "my_age = \"∞\"\n",
        "my_TV = \"The Afterparty\"\n",
        "print(f\"Hi, I'm {my_name}, I'm {my_age} years-old, and I love \\\"{my_TV}\\\".\")\n",
        "```\n",
        "    \n",
        "> Hi, I'm Maggie, I'm ∞ years-old, and I love \"The Afterparty\".\n",
        "    \n",
        "<div class='alert alert-warning'>\n",
        "  ❌✍️ Just don't do this...\n",
        "</div>\n",
        "   \n",
        "```python\n",
        "myName = \"pleaseDont\"\n",
        "myAge = \"thisIsCalledCamelCase\"\n",
        "myTV = \"python_uses_snake_case_99%_of_the_time\"\n",
        "```\n",
        "    \n",
        "</details>"
      ]
    },
    {
      "cell_type": "code",
      "execution_count": 55,
      "id": "c930248a",
      "metadata": {
        "colab": {
          "base_uri": "https://localhost:8080/"
        },
        "id": "c930248a",
        "outputId": "84885225-771b-4649-e98e-0cf650aac42e"
      },
      "outputs": [
        {
          "output_type": "stream",
          "name": "stdout",
          "text": [
            "Hi, I'm Maggie, I'm ∞ years-old, and I love \"The Afterparty\".\n"
          ]
        }
      ],
      "source": [
        "my_name = \"Maggie\"\n",
        "my_age = \"∞\"\n",
        "my_TV = \"The Afterparty\"\n",
        "print(f\"Hi, I'm {my_name}, I'm {my_age} years-old, and I love \\\"{my_TV}\\\".\")"
      ]
    },
    {
      "cell_type": "markdown",
      "id": "99839e84",
      "metadata": {
        "id": "99839e84"
      },
      "source": [
        "### String Methods"
      ]
    },
    {
      "cell_type": "code",
      "execution_count": 56,
      "id": "e9a9c84a",
      "metadata": {
        "colab": {
          "base_uri": "https://localhost:8080/"
        },
        "id": "e9a9c84a",
        "outputId": "dea070bf-e622-4a02-8190-60da6d2c53e3"
      },
      "outputs": [
        {
          "output_type": "execute_result",
          "data": {
            "text/plain": [
              "str"
            ]
          },
          "metadata": {},
          "execution_count": 56
        }
      ],
      "source": [
        "name\n",
        "type(name)"
      ]
    },
    {
      "cell_type": "code",
      "execution_count": 57,
      "id": "afac2c90",
      "metadata": {
        "colab": {
          "base_uri": "https://localhost:8080/"
        },
        "id": "afac2c90",
        "outputId": "d1fe9c43-698e-481a-bdd9-9e9cb746e5a6"
      },
      "outputs": [
        {
          "output_type": "execute_result",
          "data": {
            "text/plain": [
              "['__add__',\n",
              " '__class__',\n",
              " '__contains__',\n",
              " '__delattr__',\n",
              " '__dir__',\n",
              " '__doc__',\n",
              " '__eq__',\n",
              " '__format__',\n",
              " '__ge__',\n",
              " '__getattribute__',\n",
              " '__getitem__',\n",
              " '__getnewargs__',\n",
              " '__getstate__',\n",
              " '__gt__',\n",
              " '__hash__',\n",
              " '__init__',\n",
              " '__init_subclass__',\n",
              " '__iter__',\n",
              " '__le__',\n",
              " '__len__',\n",
              " '__lt__',\n",
              " '__mod__',\n",
              " '__mul__',\n",
              " '__ne__',\n",
              " '__new__',\n",
              " '__reduce__',\n",
              " '__reduce_ex__',\n",
              " '__repr__',\n",
              " '__rmod__',\n",
              " '__rmul__',\n",
              " '__setattr__',\n",
              " '__sizeof__',\n",
              " '__str__',\n",
              " '__subclasshook__',\n",
              " 'capitalize',\n",
              " 'casefold',\n",
              " 'center',\n",
              " 'count',\n",
              " 'encode',\n",
              " 'endswith',\n",
              " 'expandtabs',\n",
              " 'find',\n",
              " 'format',\n",
              " 'format_map',\n",
              " 'index',\n",
              " 'isalnum',\n",
              " 'isalpha',\n",
              " 'isascii',\n",
              " 'isdecimal',\n",
              " 'isdigit',\n",
              " 'isidentifier',\n",
              " 'islower',\n",
              " 'isnumeric',\n",
              " 'isprintable',\n",
              " 'isspace',\n",
              " 'istitle',\n",
              " 'isupper',\n",
              " 'join',\n",
              " 'ljust',\n",
              " 'lower',\n",
              " 'lstrip',\n",
              " 'maketrans',\n",
              " 'partition',\n",
              " 'removeprefix',\n",
              " 'removesuffix',\n",
              " 'replace',\n",
              " 'rfind',\n",
              " 'rindex',\n",
              " 'rjust',\n",
              " 'rpartition',\n",
              " 'rsplit',\n",
              " 'rstrip',\n",
              " 'split',\n",
              " 'splitlines',\n",
              " 'startswith',\n",
              " 'strip',\n",
              " 'swapcase',\n",
              " 'title',\n",
              " 'translate',\n",
              " 'upper',\n",
              " 'zfill']"
            ]
          },
          "metadata": {},
          "execution_count": 57
        }
      ],
      "source": [
        "dir(name)"
      ]
    },
    {
      "cell_type": "markdown",
      "id": "1b7d13e9",
      "metadata": {
        "id": "1b7d13e9"
      },
      "source": [
        "<div class='alert alert-success'>\n",
        "  🔬🧵 Don't get overwhelmed, just look at a couple\n",
        "</div>"
      ]
    },
    {
      "cell_type": "markdown",
      "id": "d031efdf",
      "metadata": {
        "id": "d031efdf"
      },
      "source": [
        "- `.upper`\n",
        "- `.lower`\n",
        "- `.strip`\n",
        "- `.endswith`\n",
        "- `.startswith`"
      ]
    },
    {
      "cell_type": "code",
      "execution_count": 58,
      "id": "dec098a5",
      "metadata": {
        "colab": {
          "base_uri": "https://localhost:8080/",
          "height": 35
        },
        "id": "dec098a5",
        "outputId": "73aff32f-024e-4a85-e660-adba9bf74c40"
      },
      "outputs": [
        {
          "output_type": "execute_result",
          "data": {
            "text/plain": [
              "'Max Humber'"
            ],
            "application/vnd.google.colaboratory.intrinsic+json": {
              "type": "string"
            }
          },
          "metadata": {},
          "execution_count": 58
        }
      ],
      "source": [
        "full_name = \"max humber\"\n",
        "full_name.title()"
      ]
    },
    {
      "cell_type": "code",
      "execution_count": 59,
      "id": "1a46de84",
      "metadata": {
        "colab": {
          "base_uri": "https://localhost:8080/",
          "height": 35
        },
        "id": "1a46de84",
        "outputId": "6302d5b8-cb4d-47f6-c87a-797c5431dc66"
      },
      "outputs": [
        {
          "output_type": "execute_result",
          "data": {
            "text/plain": [
              "'salkjhk;djhflkawehflksdhflfkjds'"
            ],
            "application/vnd.google.colaboratory.intrinsic+json": {
              "type": "string"
            }
          },
          "metadata": {},
          "execution_count": 59
        }
      ],
      "source": [
        "\"SALKJHK;DJHFLKAWEHFLKSDHFLFKJDS\".lower()"
      ]
    },
    {
      "cell_type": "code",
      "execution_count": 60,
      "id": "c3407dfb",
      "metadata": {
        "colab": {
          "base_uri": "https://localhost:8080/",
          "height": 35
        },
        "id": "c3407dfb",
        "outputId": "5a0343d6-811f-4932-d273-6a717fd90c5f"
      },
      "outputs": [
        {
          "output_type": "execute_result",
          "data": {
            "text/plain": [
              "\"Lot's of padding.\""
            ],
            "application/vnd.google.colaboratory.intrinsic+json": {
              "type": "string"
            }
          },
          "metadata": {},
          "execution_count": 60
        }
      ],
      "source": [
        "\"       Lot's of padding.       \".strip()"
      ]
    },
    {
      "cell_type": "code",
      "execution_count": 61,
      "id": "8978878e",
      "metadata": {
        "colab": {
          "base_uri": "https://localhost:8080/"
        },
        "id": "8978878e",
        "outputId": "133a8ab5-5d12-440f-9d79-7c35cdc6167a"
      },
      "outputs": [
        {
          "output_type": "execute_result",
          "data": {
            "text/plain": [
              "False"
            ]
          },
          "metadata": {},
          "execution_count": 61
        }
      ],
      "source": [
        "\"song_243.mp3\".endswith(\".flac\")"
      ]
    },
    {
      "cell_type": "markdown",
      "id": "5767bd7f",
      "metadata": {
        "id": "5767bd7f"
      },
      "source": [
        "### `in`"
      ]
    },
    {
      "cell_type": "code",
      "execution_count": 62,
      "id": "8e0e836b",
      "metadata": {
        "colab": {
          "base_uri": "https://localhost:8080/"
        },
        "id": "8e0e836b",
        "outputId": "f40c3b42-6286-4bdf-a521-22ee3bd69372"
      },
      "outputs": [
        {
          "output_type": "execute_result",
          "data": {
            "text/plain": [
              "True"
            ]
          },
          "metadata": {},
          "execution_count": 62
        }
      ],
      "source": [
        "\"good\" in \"good bye\""
      ]
    },
    {
      "cell_type": "code",
      "execution_count": 63,
      "id": "2b9be66a",
      "metadata": {
        "colab": {
          "base_uri": "https://localhost:8080/"
        },
        "id": "2b9be66a",
        "outputId": "30cae155-5d61-41b4-8f4a-91bd9faaed3f"
      },
      "outputs": [
        {
          "output_type": "execute_result",
          "data": {
            "text/plain": [
              "True"
            ]
          },
          "metadata": {},
          "execution_count": 63
        }
      ],
      "source": [
        "\"Good\".lower() in \"good bye\""
      ]
    },
    {
      "cell_type": "markdown",
      "id": "7fc66329",
      "metadata": {
        "id": "7fc66329"
      },
      "source": [
        "### Homework\n",
        "\n",
        "<div class='alert alert-info'>\n",
        "  🎒 Replace all of the punctuation in the following quotes\n",
        "</div>"
      ]
    },
    {
      "cell_type": "code",
      "execution_count": 65,
      "id": "fba54188",
      "metadata": {
        "id": "fba54188"
      },
      "outputs": [],
      "source": [
        "quote_1 = \"Oh I gotta get on that internet, I'm late on everything!\""
      ]
    },
    {
      "cell_type": "code",
      "execution_count": 68,
      "id": "38f75559",
      "metadata": {
        "id": "38f75559"
      },
      "outputs": [],
      "source": [
        "quote_1 = quote_1.lower().replace(\",\", \"\").replace(\"!\", \"\").replace(\"'\", \"\")"
      ]
    },
    {
      "cell_type": "code",
      "execution_count": 66,
      "id": "e1255930",
      "metadata": {
        "id": "e1255930"
      },
      "outputs": [],
      "source": [
        "quote_2 = \"What’s the deal with lampshades? I mean if it’s a lamp, why do you want shade?\""
      ]
    },
    {
      "cell_type": "code",
      "execution_count": 67,
      "id": "346eb19c",
      "metadata": {
        "colab": {
          "base_uri": "https://localhost:8080/",
          "height": 35
        },
        "id": "346eb19c",
        "outputId": "88f679e7-2ccb-4be2-e4cf-8ce71fb03c30"
      },
      "outputs": [
        {
          "output_type": "execute_result",
          "data": {
            "text/plain": [
              "'whats the deal with lampshades i mean if its a lamp why do you want shade'"
            ],
            "application/vnd.google.colaboratory.intrinsic+json": {
              "type": "string"
            }
          },
          "metadata": {},
          "execution_count": 67
        }
      ],
      "source": [
        "quote_2.replace(\"?\", \"\").replace(\"’\", \"\").replace(\",\", \"\").lower()"
      ]
    }
  ],
  "metadata": {
    "kernelspec": {
      "display_name": "anaconda-2024.02-py310",
      "language": "python",
      "name": "conda-env-anaconda-2024.02-py310-py"
    },
    "language_info": {
      "codemirror_mode": {
        "name": "ipython",
        "version": 3
      },
      "file_extension": ".py",
      "mimetype": "text/x-python",
      "name": "python",
      "nbconvert_exporter": "python",
      "pygments_lexer": "ipython3",
      "version": "3.10.4"
    },
    "colab": {
      "provenance": []
    }
  },
  "nbformat": 4,
  "nbformat_minor": 5
}